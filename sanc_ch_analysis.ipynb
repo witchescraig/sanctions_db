{
 "cells": [
  {
   "cell_type": "code",
   "execution_count": 1,
   "id": "cec6e195-2a12-4197-9efa-9ec6be0f2759",
   "metadata": {},
   "outputs": [],
   "source": [
    "# import libraries\n",
    "from datetime import date\n",
    "import numpy as np\n",
    "import requests\n",
    "import re\n",
    "import pandas as pd\n",
    "import os\n",
    "import io\n",
    "from datetime import datetime, timedelta\n",
    "import functions # specific module for additional functions for this code\n",
    "from glob import glob"
   ]
  },
  {
   "cell_type": "code",
   "execution_count": 2,
   "id": "c38c0ca0-7aec-474e-82b5-f765129f459b",
   "metadata": {},
   "outputs": [
    {
     "name": "stderr",
     "output_type": "stream",
     "text": [
      "C:\\Users\\valer\\AppData\\Local\\Programs\\Python\\Python312\\Lib\\site-packages\\openpyxl\\styles\\stylesheet.py:237: UserWarning: Workbook contains no default style, apply openpyxl's default\n",
      "  warn(\"Workbook contains no default style, apply openpyxl's default\")\n"
     ]
    }
   ],
   "source": [
    "# let's read the xlsx file directly in a DataFrame\n",
    "url = 'https://www.sesam.search.admin.ch/sesam-search-web/pages/search.xhtml?Applikations-Version=1.4.0-92&lang=it&nameNamensteile=&volltextsuche=&sanktionsprogrammId=&adressatTyp=&action=generateExcelAction'\n",
    "response = requests.get(url)\n",
    "file_content = io.BytesIO(response.content)  # create a stream in memory, the url target an xlsx file\n",
    "df = pd.read_excel(file_content)  "
   ]
  },
  {
   "cell_type": "code",
   "execution_count": 4,
   "id": "06549e60-8ac7-4d37-bf7b-0a99922892a2",
   "metadata": {},
   "outputs": [
    {
     "name": "stderr",
     "output_type": "stream",
     "text": [
      "C:\\Users\\valer\\AppData\\Local\\Temp\\ipykernel_12724\\2234965003.py:3: SettingWithCopyWarning: \n",
      "A value is trying to be set on a copy of a slice from a DataFrame.\n",
      "Try using .loc[row_indexer,col_indexer] = value instead\n",
      "\n",
      "See the caveats in the documentation: https://pandas.pydata.org/pandas-docs/stable/user_guide/indexing.html#returning-a-view-versus-a-copy\n",
      "  df_countries['Nationality'] = df_countries['Nationality'].str.replace(r'\\r\\n', ';', regex=True)\n"
     ]
    }
   ],
   "source": [
    "# different countries for the same ID within a cell, so I need to explode the country column and build a multirecord DataFrame\n",
    "df_countries = df[['SSID', 'Nationality']]\n",
    "df_countries['Nationality'] = df_countries['Nationality'].str.replace(r'\\r\\n', ';', regex=True)\n",
    "# explode 'Nationality' in multiple rows\n",
    "df_countries = df_countries.set_index('SSID')['Nationality'].str.split(';', expand=True).stack().reset_index(name='Nationality')\n",
    "df_countries['SSID'] = df_countries['SSID'].astype(int)\n",
    "df_countries = df_countries[['SSID', 'Nationality']]"
   ]
  },
  {
   "cell_type": "code",
   "execution_count": 5,
   "id": "d7fe6366-d1e8-4b2b-aeaa-9e01e1a052b1",
   "metadata": {},
   "outputs": [
    {
     "name": "stdout",
     "output_type": "stream",
     "text": [
      "Invalid Country Name: DPR Koreaan territory\r"
     ]
    }
   ],
   "source": [
    "# now a bit of data manipulation \n",
    "df_ch = df[['SSID', 'Sanctions', 'Target type', 'Listed']]\n",
    "df_ch_analysis = pd.merge(df_ch, df_countries[['SSID', 'Nationality']], on='SSID', how='outer')\n",
    "new_names = {\n",
    "    'SSID': 'sanctioned_id',\n",
    "    'Listed': 'sanction_listing_date',\n",
    "    'Target type': 'sanctioned_type',\n",
    "    'Sanctions': 'sanction_text',\n",
    "    'Nationality': 'sanctioned_country',\n",
    "}\n",
    "\n",
    "df_ch_analysis = df_ch_analysis.rename(columns=new_names)\n",
    "df_ch_analysis['sanction_body'] = 'CH'\n",
    "df_ch_analysis[\"sanctioned_country_iso3\"] = df_ch_analysis[\"sanctioned_country\"].apply(functions.descr_to_iso3)\n",
    "\n",
    "# I had to add some adjustemts beacuse the file has invalid names for the lookup function \n",
    "df_ch_analysis['sanctioned_country_iso3'] = df_ch_analysis['sanctioned_country_iso3'].str.replace('Congo DR', 'COD')\n",
    "df_ch_analysis['sanctioned_country_iso3'] = df_ch_analysis['sanctioned_country_iso3'].str.replace('DPR Korea', 'PRK')\n",
    "df_ch_analysis['sanctioned_country_iso3'] = df_ch_analysis['sanctioned_country_iso3'].str.replace('Soviet Union', 'SUN')\n",
    "df_ch_analysis['sanctioned_country_iso3'] = df_ch_analysis['sanctioned_country_iso3'].str.replace('Palestinian territory', 'PSE')\n",
    "\n",
    "# standardizing the entries as OFAC ones\n",
    "df_ch_analysis['sanctioned_type'] = df_ch_analysis['sanctioned_type'].str.replace('PERSON', 'Individual')\n",
    "df_ch_analysis['sanctioned_type'] = df_ch_analysis['sanctioned_type'].str.replace('ORGANISATION', 'Entity')\n",
    "df_ch_analysis['sanctioned_type'] = df_ch_analysis['sanctioned_type'].str.replace('SCHIFF', 'Ship')\n",
    "df_ch_analysis['sanction_listing_date'] = pd.to_datetime(df_ch_analysis['sanction_listing_date'])"
   ]
  },
  {
   "cell_type": "code",
   "execution_count": null,
   "id": "ade2e2d7-06f4-4545-926a-f9b371d4e28a",
   "metadata": {},
   "outputs": [],
   "source": [
    "# this cell saves the DataFrame on your google drive (I use Google colab). You can just save he DataFrame on your local directory as well\n",
    "from google.colab import drive\n",
    "drive.mount('/content/drive')\n",
    "df_ch_analysis.to_csv('/content/drive/My Drive/df_ch_analysis.csv', sep=';', index=False)"
   ]
  },
  {
   "cell_type": "code",
   "execution_count": 7,
   "id": "947a7995-3cc6-4d4d-bb24-698541c31d22",
   "metadata": {},
   "outputs": [],
   "source": [
    "df_ch_analysis.to_csv('C:/Users/valer/OneDrive/Desktop/python/input/df_ch_analysis.csv', sep=';', index=False)"
   ]
  },
  {
   "cell_type": "code",
   "execution_count": null,
   "id": "c65eb693-f712-4b48-8085-e1a791bc22f2",
   "metadata": {},
   "outputs": [],
   "source": []
  }
 ],
 "metadata": {
  "kernelspec": {
   "display_name": "Python 3 (ipykernel)",
   "language": "python",
   "name": "python3"
  },
  "language_info": {
   "codemirror_mode": {
    "name": "ipython",
    "version": 3
   },
   "file_extension": ".py",
   "mimetype": "text/x-python",
   "name": "python",
   "nbconvert_exporter": "python",
   "pygments_lexer": "ipython3",
   "version": "3.12.3"
  }
 },
 "nbformat": 4,
 "nbformat_minor": 5
}

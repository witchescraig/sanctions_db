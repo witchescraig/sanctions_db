{
 "cells": [
  {
   "cell_type": "code",
   "execution_count": null,
   "id": "29f480af-cfe2-43a5-99e7-d61d2713dc05",
   "metadata": {},
   "outputs": [],
   "source": [
    "import pandas as pd\n",
    "import pycountry\n",
    "# this is needed because sometimes Entity_DesignationDate is blank, so as 'proxy' we can use Entity_Regulation_PublicationDate\n",
    "def replace_blanks(row):\n",
    "    if pd.isna(row['Entity_DesignationDate']) or row['Entity_DesignationDate'] == '':\n",
    "        return row['Entity_Regulation_PublicationDate']\n",
    "    return row['Entity_DesignationDate']\n",
    "\n",
    "# this can be used if you wanna sort of standardize the aliases\n",
    "def rimuovi_caratteri_speciali(df, nome_colonna):\n",
    "    df[nome_colonna] = df[nome_colonna].apply(lambda x: re.sub(r'[^\\w\\s]', '', x))\n",
    "    return df\n",
    "\n",
    "# this is needed to explode the nested columns in a DataFrame\n",
    "def explode_nested_col(df):\n",
    "    for col in df.columns:\n",
    "        if df[col].apply(lambda x: isinstance(x, list) or isinstance(x, dict)).any():\n",
    "            df = df.explode(col).reset_index(drop=True)\n",
    "            df = pd.concat([df.drop([col], axis=1), pd.json_normalize(df[col]).add_prefix(col+'_')], axis=1)\n",
    "    return df\n",
    "    \n",
    "# this is needed to convert all iso2 codes in iso3 and standardize country data\n",
    "def iso2_to_iso3(iso2):\n",
    "    try:\n",
    "        if pd.notna(iso2):  \n",
    "            iso2 = iso2.strip()  \n",
    "            return pycountry.countries.get(alpha_2=iso2).alpha_3\n",
    "        return None\n",
    "    except (AttributeError, LookupError):\n",
    "        print(f\"Invalid ISO2 code: {iso2}\")\n",
    "        return None"
   ]
  }
 ],
 "metadata": {
  "kernelspec": {
   "display_name": "Python 3 (ipykernel)",
   "language": "python",
   "name": "python3"
  },
  "language_info": {
   "codemirror_mode": {
    "name": "ipython",
    "version": 3
   },
   "file_extension": ".py",
   "mimetype": "text/x-python",
   "name": "python",
   "nbconvert_exporter": "python",
   "pygments_lexer": "ipython3",
   "version": "3.12.3"
  }
 },
 "nbformat": 4,
 "nbformat_minor": 5
}
